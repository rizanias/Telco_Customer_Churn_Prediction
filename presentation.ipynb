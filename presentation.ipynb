{
 "cells": [
  {
   "cell_type": "markdown",
   "metadata": {},
   "source": [
    "# 1. Import Libarary"
   ]
  },
  {
   "cell_type": "code",
   "execution_count": 44,
   "metadata": {},
   "outputs": [],
   "source": [
    "# !pip install jcopml --q #install jcopml sebagai library tambahan\n",
    "\n",
    "# Basic\n",
    "import pandas as pd\n",
    "import numpy as np\n",
    "import matplotlib.pyplot as plt\n",
    "import seaborn as sns\n",
    "\n",
    "# SKlearn\n",
    "from sklearn import preprocessing\n",
    "from sklearn.pipeline import Pipeline\n",
    "from sklearn.compose import ColumnTransformer\n",
    "from sklearn.model_selection import train_test_split, GridSearchCV\n",
    "from sklearn.metrics import confusion_matrix, classification_report\n",
    "from keras.wrappers.scikit_learn import KerasClassifier\n",
    "from sklearn.neural_network import MLPClassifier\n",
    "\n",
    "# JCOP ML\n",
    "from jcopml.plot import plot_missing_value\n",
    "from jcopml.pipeline import num_pipe, cat_pipe\n",
    "from jcopml.tuning import grid_search_params as gsp\n",
    "# from jcopml.feature_importance import mean_score_decrease\n",
    "\n",
    "# Tensorflow\n",
    "from tensorflow.keras.optimizers import SGD, RMSprop, Adagrad, Adadelta, Adam, Adamax, Nadam\n",
    "import tensorflow as tf\n",
    "from tensorflow import keras\n",
    "from tensorflow.keras.models import Sequential, Model\n",
    "from tensorflow.keras.layers import Dense, Dropout\n",
    "from keras.constraints import maxnorm\n",
    "\n",
    "# ignore warning\n",
    "import warnings\n",
    "warnings.filterwarnings('ignore')\n",
    "warnings.filterwarnings(action=\"ignore\", message=\"^internal gelsd\")"
   ]
  },
  {
   "cell_type": "markdown",
   "metadata": {},
   "source": [
    "# 2. Data Loading"
   ]
  },
  {
   "cell_type": "markdown",
   "metadata": {},
   "source": [
    "## 2.1 Import Data"
   ]
  },
  {
   "cell_type": "code",
   "execution_count": 45,
   "metadata": {},
   "outputs": [],
   "source": [
    "data = pd.read_csv('telco-customer-churn.csv')\n",
    "df = data.copy()"
   ]
  },
  {
   "cell_type": "markdown",
   "metadata": {},
   "source": [
    "## 2.2 BackUp Data"
   ]
  },
  {
   "cell_type": "code",
   "execution_count": 46,
   "metadata": {},
   "outputs": [],
   "source": [
    "df = df.drop('customerID', axis=1)"
   ]
  },
  {
   "cell_type": "code",
   "execution_count": 47,
   "metadata": {},
   "outputs": [
    {
     "data": {
      "text/html": [
       "<div>\n",
       "<style scoped>\n",
       "    .dataframe tbody tr th:only-of-type {\n",
       "        vertical-align: middle;\n",
       "    }\n",
       "\n",
       "    .dataframe tbody tr th {\n",
       "        vertical-align: top;\n",
       "    }\n",
       "\n",
       "    .dataframe thead th {\n",
       "        text-align: right;\n",
       "    }\n",
       "</style>\n",
       "<table border=\"1\" class=\"dataframe\">\n",
       "  <thead>\n",
       "    <tr style=\"text-align: right;\">\n",
       "      <th></th>\n",
       "      <th>gender</th>\n",
       "      <th>SeniorCitizen</th>\n",
       "      <th>Partner</th>\n",
       "      <th>Dependents</th>\n",
       "      <th>tenure</th>\n",
       "      <th>PhoneService</th>\n",
       "      <th>MultipleLines</th>\n",
       "      <th>InternetService</th>\n",
       "      <th>OnlineSecurity</th>\n",
       "      <th>OnlineBackup</th>\n",
       "      <th>DeviceProtection</th>\n",
       "      <th>TechSupport</th>\n",
       "      <th>StreamingTV</th>\n",
       "      <th>StreamingMovies</th>\n",
       "      <th>Contract</th>\n",
       "      <th>PaperlessBilling</th>\n",
       "      <th>PaymentMethod</th>\n",
       "      <th>MonthlyCharges</th>\n",
       "      <th>TotalCharges</th>\n",
       "      <th>Churn</th>\n",
       "    </tr>\n",
       "  </thead>\n",
       "  <tbody>\n",
       "    <tr>\n",
       "      <th>0</th>\n",
       "      <td>Female</td>\n",
       "      <td>0</td>\n",
       "      <td>Yes</td>\n",
       "      <td>No</td>\n",
       "      <td>1</td>\n",
       "      <td>No</td>\n",
       "      <td>No phone service</td>\n",
       "      <td>DSL</td>\n",
       "      <td>No</td>\n",
       "      <td>Yes</td>\n",
       "      <td>No</td>\n",
       "      <td>No</td>\n",
       "      <td>No</td>\n",
       "      <td>No</td>\n",
       "      <td>Month-to-month</td>\n",
       "      <td>Yes</td>\n",
       "      <td>Electronic check</td>\n",
       "      <td>29.85</td>\n",
       "      <td>29.85</td>\n",
       "      <td>No</td>\n",
       "    </tr>\n",
       "    <tr>\n",
       "      <th>1</th>\n",
       "      <td>Male</td>\n",
       "      <td>0</td>\n",
       "      <td>No</td>\n",
       "      <td>No</td>\n",
       "      <td>34</td>\n",
       "      <td>Yes</td>\n",
       "      <td>No</td>\n",
       "      <td>DSL</td>\n",
       "      <td>Yes</td>\n",
       "      <td>No</td>\n",
       "      <td>Yes</td>\n",
       "      <td>No</td>\n",
       "      <td>No</td>\n",
       "      <td>No</td>\n",
       "      <td>One year</td>\n",
       "      <td>No</td>\n",
       "      <td>Mailed check</td>\n",
       "      <td>56.95</td>\n",
       "      <td>1889.5</td>\n",
       "      <td>No</td>\n",
       "    </tr>\n",
       "    <tr>\n",
       "      <th>2</th>\n",
       "      <td>Male</td>\n",
       "      <td>0</td>\n",
       "      <td>No</td>\n",
       "      <td>No</td>\n",
       "      <td>2</td>\n",
       "      <td>Yes</td>\n",
       "      <td>No</td>\n",
       "      <td>DSL</td>\n",
       "      <td>Yes</td>\n",
       "      <td>Yes</td>\n",
       "      <td>No</td>\n",
       "      <td>No</td>\n",
       "      <td>No</td>\n",
       "      <td>No</td>\n",
       "      <td>Month-to-month</td>\n",
       "      <td>Yes</td>\n",
       "      <td>Mailed check</td>\n",
       "      <td>53.85</td>\n",
       "      <td>108.15</td>\n",
       "      <td>Yes</td>\n",
       "    </tr>\n",
       "    <tr>\n",
       "      <th>3</th>\n",
       "      <td>Male</td>\n",
       "      <td>0</td>\n",
       "      <td>No</td>\n",
       "      <td>No</td>\n",
       "      <td>45</td>\n",
       "      <td>No</td>\n",
       "      <td>No phone service</td>\n",
       "      <td>DSL</td>\n",
       "      <td>Yes</td>\n",
       "      <td>No</td>\n",
       "      <td>Yes</td>\n",
       "      <td>Yes</td>\n",
       "      <td>No</td>\n",
       "      <td>No</td>\n",
       "      <td>One year</td>\n",
       "      <td>No</td>\n",
       "      <td>Bank transfer (automatic)</td>\n",
       "      <td>42.30</td>\n",
       "      <td>1840.75</td>\n",
       "      <td>No</td>\n",
       "    </tr>\n",
       "    <tr>\n",
       "      <th>4</th>\n",
       "      <td>Female</td>\n",
       "      <td>0</td>\n",
       "      <td>No</td>\n",
       "      <td>No</td>\n",
       "      <td>2</td>\n",
       "      <td>Yes</td>\n",
       "      <td>No</td>\n",
       "      <td>Fiber optic</td>\n",
       "      <td>No</td>\n",
       "      <td>No</td>\n",
       "      <td>No</td>\n",
       "      <td>No</td>\n",
       "      <td>No</td>\n",
       "      <td>No</td>\n",
       "      <td>Month-to-month</td>\n",
       "      <td>Yes</td>\n",
       "      <td>Electronic check</td>\n",
       "      <td>70.70</td>\n",
       "      <td>151.65</td>\n",
       "      <td>Yes</td>\n",
       "    </tr>\n",
       "  </tbody>\n",
       "</table>\n",
       "</div>"
      ],
      "text/plain": [
       "   gender  SeniorCitizen Partner Dependents  tenure PhoneService  \\\n",
       "0  Female              0     Yes         No       1           No   \n",
       "1    Male              0      No         No      34          Yes   \n",
       "2    Male              0      No         No       2          Yes   \n",
       "3    Male              0      No         No      45           No   \n",
       "4  Female              0      No         No       2          Yes   \n",
       "\n",
       "      MultipleLines InternetService OnlineSecurity OnlineBackup  \\\n",
       "0  No phone service             DSL             No          Yes   \n",
       "1                No             DSL            Yes           No   \n",
       "2                No             DSL            Yes          Yes   \n",
       "3  No phone service             DSL            Yes           No   \n",
       "4                No     Fiber optic             No           No   \n",
       "\n",
       "  DeviceProtection TechSupport StreamingTV StreamingMovies        Contract  \\\n",
       "0               No          No          No              No  Month-to-month   \n",
       "1              Yes          No          No              No        One year   \n",
       "2               No          No          No              No  Month-to-month   \n",
       "3              Yes         Yes          No              No        One year   \n",
       "4               No          No          No              No  Month-to-month   \n",
       "\n",
       "  PaperlessBilling              PaymentMethod  MonthlyCharges TotalCharges  \\\n",
       "0              Yes           Electronic check           29.85        29.85   \n",
       "1               No               Mailed check           56.95       1889.5   \n",
       "2              Yes               Mailed check           53.85       108.15   \n",
       "3               No  Bank transfer (automatic)           42.30      1840.75   \n",
       "4              Yes           Electronic check           70.70       151.65   \n",
       "\n",
       "  Churn  \n",
       "0    No  \n",
       "1    No  \n",
       "2   Yes  \n",
       "3    No  \n",
       "4   Yes  "
      ]
     },
     "execution_count": 47,
     "metadata": {},
     "output_type": "execute_result"
    }
   ],
   "source": [
    "df.head()"
   ]
  },
  {
   "cell_type": "markdown",
   "metadata": {},
   "source": [
    "## 2.3 Check Missing Value"
   ]
  },
  {
   "cell_type": "code",
   "execution_count": 48,
   "metadata": {},
   "outputs": [
    {
     "data": {
      "image/png": "[encoded data removed]",
      "text/plain": [
       "<Figure size 1080x576 with 1 Axes>"
      ]
     },
     "metadata": {
      "needs_background": "light"
     },
     "output_type": "display_data"
    }
   ],
   "source": [
    "plot_missing_value(df)"
   ]
  },
  {
   "cell_type": "markdown",
   "metadata": {},
   "source": [
    "`tidak terlihat adanya`<b> missing value </b> `, namun harus diwaspadai pada `<b>Fitur Kategorik</b>` dimana ada data kosong berbentuk string ' ', sehingga data harus diisi dengan modus dari setiap fitur` "
   ]
  },
  {
   "cell_type": "code",
   "execution_count": 49,
   "metadata": {},
   "outputs": [
    {
     "data": {
      "text/html": [
       "<div>\n",
       "<style scoped>\n",
       "    .dataframe tbody tr th:only-of-type {\n",
       "        vertical-align: middle;\n",
       "    }\n",
       "\n",
       "    .dataframe tbody tr th {\n",
       "        vertical-align: top;\n",
       "    }\n",
       "\n",
       "    .dataframe thead th {\n",
       "        text-align: right;\n",
       "    }\n",
       "</style>\n",
       "<table border=\"1\" class=\"dataframe\">\n",
       "  <thead>\n",
       "    <tr style=\"text-align: right;\">\n",
       "      <th></th>\n",
       "      <th>gender</th>\n",
       "      <th>SeniorCitizen</th>\n",
       "      <th>Partner</th>\n",
       "      <th>Dependents</th>\n",
       "      <th>tenure</th>\n",
       "      <th>PhoneService</th>\n",
       "      <th>MultipleLines</th>\n",
       "      <th>InternetService</th>\n",
       "      <th>OnlineSecurity</th>\n",
       "      <th>OnlineBackup</th>\n",
       "      <th>DeviceProtection</th>\n",
       "      <th>TechSupport</th>\n",
       "      <th>StreamingTV</th>\n",
       "      <th>StreamingMovies</th>\n",
       "      <th>Contract</th>\n",
       "      <th>PaperlessBilling</th>\n",
       "      <th>PaymentMethod</th>\n",
       "      <th>MonthlyCharges</th>\n",
       "      <th>TotalCharges</th>\n",
       "      <th>Churn</th>\n",
       "    </tr>\n",
       "  </thead>\n",
       "  <tbody>\n",
       "    <tr>\n",
       "      <th>488</th>\n",
       "      <td>Female</td>\n",
       "      <td>0</td>\n",
       "      <td>Yes</td>\n",
       "      <td>Yes</td>\n",
       "      <td>0</td>\n",
       "      <td>No</td>\n",
       "      <td>No phone service</td>\n",
       "      <td>DSL</td>\n",
       "      <td>Yes</td>\n",
       "      <td>No</td>\n",
       "      <td>Yes</td>\n",
       "      <td>Yes</td>\n",
       "      <td>Yes</td>\n",
       "      <td>No</td>\n",
       "      <td>Two year</td>\n",
       "      <td>Yes</td>\n",
       "      <td>Bank transfer (automatic)</td>\n",
       "      <td>52.55</td>\n",
       "      <td></td>\n",
       "      <td>No</td>\n",
       "    </tr>\n",
       "    <tr>\n",
       "      <th>753</th>\n",
       "      <td>Male</td>\n",
       "      <td>0</td>\n",
       "      <td>No</td>\n",
       "      <td>Yes</td>\n",
       "      <td>0</td>\n",
       "      <td>Yes</td>\n",
       "      <td>No</td>\n",
       "      <td>No</td>\n",
       "      <td>No internet service</td>\n",
       "      <td>No internet service</td>\n",
       "      <td>No internet service</td>\n",
       "      <td>No internet service</td>\n",
       "      <td>No internet service</td>\n",
       "      <td>No internet service</td>\n",
       "      <td>Two year</td>\n",
       "      <td>No</td>\n",
       "      <td>Mailed check</td>\n",
       "      <td>20.25</td>\n",
       "      <td></td>\n",
       "      <td>No</td>\n",
       "    </tr>\n",
       "    <tr>\n",
       "      <th>936</th>\n",
       "      <td>Female</td>\n",
       "      <td>0</td>\n",
       "      <td>Yes</td>\n",
       "      <td>Yes</td>\n",
       "      <td>0</td>\n",
       "      <td>Yes</td>\n",
       "      <td>No</td>\n",
       "      <td>DSL</td>\n",
       "      <td>Yes</td>\n",
       "      <td>Yes</td>\n",
       "      <td>Yes</td>\n",
       "      <td>No</td>\n",
       "      <td>Yes</td>\n",
       "      <td>Yes</td>\n",
       "      <td>Two year</td>\n",
       "      <td>No</td>\n",
       "      <td>Mailed check</td>\n",
       "      <td>80.85</td>\n",
       "      <td></td>\n",
       "      <td>No</td>\n",
       "    </tr>\n",
       "    <tr>\n",
       "      <th>1082</th>\n",
       "      <td>Male</td>\n",
       "      <td>0</td>\n",
       "      <td>Yes</td>\n",
       "      <td>Yes</td>\n",
       "      <td>0</td>\n",
       "      <td>Yes</td>\n",
       "      <td>Yes</td>\n",
       "      <td>No</td>\n",
       "      <td>No internet service</td>\n",
       "      <td>No internet service</td>\n",
       "      <td>No internet service</td>\n",
       "      <td>No internet service</td>\n",
       "      <td>No internet service</td>\n",
       "      <td>No internet service</td>\n",
       "      <td>Two year</td>\n",
       "      <td>No</td>\n",
       "      <td>Mailed check</td>\n",
       "      <td>25.75</td>\n",
       "      <td></td>\n",
       "      <td>No</td>\n",
       "    </tr>\n",
       "    <tr>\n",
       "      <th>1340</th>\n",
       "      <td>Female</td>\n",
       "      <td>0</td>\n",
       "      <td>Yes</td>\n",
       "      <td>Yes</td>\n",
       "      <td>0</td>\n",
       "      <td>No</td>\n",
       "      <td>No phone service</td>\n",
       "      <td>DSL</td>\n",
       "      <td>Yes</td>\n",
       "      <td>Yes</td>\n",
       "      <td>Yes</td>\n",
       "      <td>Yes</td>\n",
       "      <td>Yes</td>\n",
       "      <td>No</td>\n",
       "      <td>Two year</td>\n",
       "      <td>No</td>\n",
       "      <td>Credit card (automatic)</td>\n",
       "      <td>56.05</td>\n",
       "      <td></td>\n",
       "      <td>No</td>\n",
       "    </tr>\n",
       "  </tbody>\n",
       "</table>\n",
       "</div>"
      ],
      "text/plain": [
       "      gender  SeniorCitizen Partner Dependents  tenure PhoneService  \\\n",
       "488   Female              0     Yes        Yes       0           No   \n",
       "753     Male              0      No        Yes       0          Yes   \n",
       "936   Female              0     Yes        Yes       0          Yes   \n",
       "1082    Male              0     Yes        Yes       0          Yes   \n",
       "1340  Female              0     Yes        Yes       0           No   \n",
       "\n",
       "         MultipleLines InternetService       OnlineSecurity  \\\n",
       "488   No phone service             DSL                  Yes   \n",
       "753                 No              No  No internet service   \n",
       "936                 No             DSL                  Yes   \n",
       "1082               Yes              No  No internet service   \n",
       "1340  No phone service             DSL                  Yes   \n",
       "\n",
       "             OnlineBackup     DeviceProtection          TechSupport  \\\n",
       "488                    No                  Yes                  Yes   \n",
       "753   No internet service  No internet service  No internet service   \n",
       "936                   Yes                  Yes                   No   \n",
       "1082  No internet service  No internet service  No internet service   \n",
       "1340                  Yes                  Yes                  Yes   \n",
       "\n",
       "              StreamingTV      StreamingMovies  Contract PaperlessBilling  \\\n",
       "488                   Yes                   No  Two year              Yes   \n",
       "753   No internet service  No internet service  Two year               No   \n",
       "936                   Yes                  Yes  Two year               No   \n",
       "1082  No internet service  No internet service  Two year               No   \n",
       "1340                  Yes                   No  Two year               No   \n",
       "\n",
       "                  PaymentMethod  MonthlyCharges TotalCharges Churn  \n",
       "488   Bank transfer (automatic)           52.55                 No  \n",
       "753                Mailed check           20.25                 No  \n",
       "936                Mailed check           80.85                 No  \n",
       "1082               Mailed check           25.75                 No  \n",
       "1340    Credit card (automatic)           56.05                 No  "
      ]
     },
     "execution_count": 49,
     "metadata": {},
     "output_type": "execute_result"
    }
   ],
   "source": [
    "df.loc[df['TotalCharges'] == ' '].head()"
   ]
  },
  {
   "cell_type": "markdown",
   "metadata": {},
   "source": [
    "`contoh data kosong ' ' pada fitur TotalCharges`"
   ]
  },
  {
   "cell_type": "markdown",
   "metadata": {},
   "source": [
    "## 2.4 Replace Data"
   ]
  },
  {
   "cell_type": "code",
   "execution_count": 50,
   "metadata": {},
   "outputs": [],
   "source": [
    "total_charges = df['TotalCharges']\n",
    "df = df.drop('TotalCharges', axis=1)"
   ]
  },
  {
   "cell_type": "markdown",
   "metadata": {},
   "source": [
    "`Fitur TotalCharges dipisahkan karena diduga kuat memiliki data kosong ' '`"
   ]
  },
  {
   "cell_type": "markdown",
   "metadata": {},
   "source": [
    "##### Split Data (Numerik and Kategorik)"
   ]
  },
  {
   "cell_type": "code",
   "execution_count": 51,
   "metadata": {},
   "outputs": [
    {
     "name": "stdout",
     "output_type": "stream",
     "text": [
      "tipe data kategorik: ['gender', 'Partner', 'Dependents', 'PhoneService', 'MultipleLines', 'InternetService', 'OnlineSecurity', 'OnlineBackup', 'DeviceProtection', 'TechSupport', 'StreamingTV', 'StreamingMovies', 'Contract', 'PaperlessBilling', 'PaymentMethod', 'Churn'] \n",
      "\n",
      "tipe data numerik: ['SeniorCitizen', 'tenure', 'MonthlyCharges']\n"
     ]
    }
   ],
   "source": [
    "kategorik = [ i for i in df.columns if df[i].dtype =='O']\n",
    "numerik = [i for i in df.columns if df[i].dtype !='O']\n",
    "print('tipe data kategorik:',kategorik, '\\n')\n",
    "print('tipe data numerik:',numerik)"
   ]
  },
  {
   "cell_type": "code",
   "execution_count": 9,
   "metadata": {},
   "outputs": [],
   "source": [
    "for x in df[numerik].columns:\n",
    "    df[numerik][x] = np.where(df[numerik][x] == ' ', df[x].median(), df[numerik][x])"
   ]
  },
  {
   "cell_type": "markdown",
   "metadata": {},
   "source": [
    "`data numerik tidak akan diproses karena jika data numerik memiliki data kosong ' ', maka akan terdeteksi sebagai missing value`"
   ]
  },
  {
   "cell_type": "code",
   "execution_count": 10,
   "metadata": {},
   "outputs": [],
   "source": [
    "for x in df[kategorik].columns:\n",
    "    df[kategorik][x] = np.where(df[kategorik][x] == ' ', df[kategorik][x].mode(), df[kategorik][x])"
   ]
  },
  {
   "cell_type": "markdown",
   "metadata": {},
   "source": [
    "`memastikan semua data kategorik tidak memiliki data kosong ' ', sehingga jika ada data kosong maka akan diganti dengan modus dari setiap fitur`"
   ]
  },
  {
   "cell_type": "code",
   "execution_count": 11,
   "metadata": {},
   "outputs": [],
   "source": [
    "total_charges = np.where(total_charges == ' ', total_charges.mode()[1], total_charges)"
   ]
  },
  {
   "cell_type": "markdown",
   "metadata": {},
   "source": [
    "`mengganti data kosong pada fitur TotalCharges menjadi modus`"
   ]
  },
  {
   "cell_type": "markdown",
   "metadata": {},
   "source": [
    "#### Combine All Data"
   ]
  },
  {
   "cell_type": "code",
   "execution_count": 12,
   "metadata": {},
   "outputs": [],
   "source": [
    "df['TotalCharges'] = total_charges"
   ]
  },
  {
   "cell_type": "markdown",
   "metadata": {},
   "source": [
    "## 2.5 Check Data Type"
   ]
  },
  {
   "cell_type": "code",
   "execution_count": 13,
   "metadata": {},
   "outputs": [
    {
     "name": "stdout",
     "output_type": "stream",
     "text": [
      "<class 'pandas.core.frame.DataFrame'>\n",
      "RangeIndex: 7043 entries, 0 to 7042\n",
      "Data columns (total 20 columns):\n",
      " #   Column            Non-Null Count  Dtype  \n",
      "---  ------            --------------  -----  \n",
      " 0   gender            7043 non-null   object \n",
      " 1   SeniorCitizen     7043 non-null   int64  \n",
      " 2   Partner           7043 non-null   object \n",
      " 3   Dependents        7043 non-null   object \n",
      " 4   tenure            7043 non-null   int64  \n",
      " 5   PhoneService      7043 non-null   object \n",
      " 6   MultipleLines     7043 non-null   object \n",
      " 7   InternetService   7043 non-null   object \n",
      " 8   OnlineSecurity    7043 non-null   object \n",
      " 9   OnlineBackup      7043 non-null   object \n",
      " 10  DeviceProtection  7043 non-null   object \n",
      " 11  TechSupport       7043 non-null   object \n",
      " 12  StreamingTV       7043 non-null   object \n",
      " 13  StreamingMovies   7043 non-null   object \n",
      " 14  Contract          7043 non-null   object \n",
      " 15  PaperlessBilling  7043 non-null   object \n",
      " 16  PaymentMethod     7043 non-null   object \n",
      " 17  MonthlyCharges    7043 non-null   float64\n",
      " 18  Churn             7043 non-null   object \n",
      " 19  TotalCharges      7043 non-null   object \n",
      "dtypes: float64(1), int64(2), object(17)\n",
      "memory usage: 1.1+ MB\n"
     ]
    }
   ],
   "source": [
    "df.info()"
   ]
  },
  {
   "cell_type": "markdown",
   "metadata": {},
   "source": [
    "- `Fitur `<b>TotalCharges</b>` akan diubah float sehinga dapat diolah lebih lanjut`"
   ]
  },
  {
   "cell_type": "code",
   "execution_count": 14,
   "metadata": {},
   "outputs": [],
   "source": [
    "df['TotalCharges']  = df['TotalCharges'].astype('float')"
   ]
  },
  {
   "cell_type": "markdown",
   "metadata": {},
   "source": [
    "# 3. Exploratory Data Analysis"
   ]
  },
  {
   "cell_type": "code",
   "execution_count": 15,
   "metadata": {},
   "outputs": [
    {
     "data": {
      "image/png": "[encoded data removed]",
      "text/plain": [
       "<Figure size 432x288 with 1 Axes>"
      ]
     },
     "metadata": {
      "needs_background": "light"
     },
     "output_type": "display_data"
    }
   ],
   "source": [
    "ax = sns.countplot('Churn', data = df)\n",
    "# ax.bar_label(container=ax.containers[0])"
   ]
  },
  {
   "cell_type": "markdown",
   "metadata": {},
   "source": [
    "`berdasarkan data, Customer `<b>tetap / setia lebih banyak (5174) </b>` dibanding dengan customer yang `<b> pindah (1869)</b>"
   ]
  },
  {
   "cell_type": "code",
   "execution_count": 16,
   "metadata": {},
   "outputs": [
    {
     "data": {
      "text/plain": [
       "<AxesSubplot:xlabel='tenure', ylabel='count'>"
      ]
     },
     "execution_count": 16,
     "metadata": {},
     "output_type": "execute_result"
    },
    {
     "data": {
      "image/png": "[encoded data removed]",
      "text/plain": [
       "<Figure size 1440x576 with 1 Axes>"
      ]
     },
     "metadata": {
      "needs_background": "light"
     },
     "output_type": "display_data"
    }
   ],
   "source": [
    "plt.figure(figsize=(20,8))\n",
    "sns.countplot('tenure', data = df, hue = 'Churn')"
   ]
  },
  {
   "cell_type": "markdown",
   "metadata": {},
   "source": [
    "- `banyak customer yang pindah setelah bulan pertama, sehingga diperlukan pemeriksaan lebih lanjut`\n",
    "- `Costumer churn rate akan terus berkurang seiring penpanjangan service`\n",
    "- `setelah masuk bulan ke 70, costumer akan semakin setia`"
   ]
  },
  {
   "cell_type": "code",
   "execution_count": 17,
   "metadata": {},
   "outputs": [
    {
     "data": {
      "image/png": "[encoded data removed]",
      "text/plain": [
       "<Figure size 1080x1080 with 9 Axes>"
      ]
     },
     "metadata": {
      "needs_background": "light"
     },
     "output_type": "display_data"
    }
   ],
   "source": [
    "cat_var = ['gender', 'Contract', 'StreamingMovies', 'PhoneService', 'InternetService', 'StreamingTV', 'OnlineSecurity', 'DeviceProtection', 'TechSupport']\n",
    "\n",
    "fig, axes = plt.subplots(3,3, figsize=(15,15))\n",
    "\n",
    "for cat, ax in zip(cat_var, axes.flatten()):\n",
    "    sns.countplot(cat, data=df, hue='Churn', ax= ax)"
   ]
  },
  {
   "cell_type": "markdown",
   "metadata": {},
   "source": [
    "- `berdasarkan plot, lebih dari` <b> 50% customer </b> `baik laki-laki maupun perempuan menjadi pelanggan tetap dan menikmati beberapa produk yang ditawarkan`\n",
    "- `berdasarkan` <b> contract </b>`,lebih banyak customer yang memilih` <b> month-to-month </b>`, biasanya adalah pelanggan yang baru mencoba produk dan `<b>40% dari customer </b>` month-to-month `<b> meniggalkan </b>` service kita pada bulan pertamanya`"
   ]
  },
  {
   "cell_type": "code",
   "execution_count": 18,
   "metadata": {},
   "outputs": [
    {
     "data": {
      "text/plain": [
       "<AxesSubplot:xlabel='TotalCharges'>"
      ]
     },
     "execution_count": 18,
     "metadata": {},
     "output_type": "execute_result"
    },
    {
     "data": {
      "image/png": "[encoded data removed]",
      "text/plain": [
       "<Figure size 1440x360 with 2 Axes>"
      ]
     },
     "metadata": {
      "needs_background": "light"
     },
     "output_type": "display_data"
    }
   ],
   "source": [
    "plt.figure(figsize=(20,5))\n",
    "\n",
    "plt.subplot(1,2,1)\n",
    "sns.boxplot(x = df['MonthlyCharges'])\n",
    "\n",
    "plt.subplot(1,2,2)\n",
    "sns.boxplot(x = df['TotalCharges'])"
   ]
  },
  {
   "cell_type": "markdown",
   "metadata": {},
   "source": [
    "<b>tidak ada outliers</b> `pada fitur MonthlyCharges dan TotalCharges`"
   ]
  },
  {
   "cell_type": "markdown",
   "metadata": {},
   "source": [
    "# 4. Preprocessing Data"
   ]
  },
  {
   "cell_type": "markdown",
   "metadata": {},
   "source": [
    "## 4.1 Data Splitting"
   ]
  },
  {
   "cell_type": "code",
   "execution_count": 19,
   "metadata": {},
   "outputs": [],
   "source": [
    "X = df.drop('Churn', axis=1)\n",
    "y = df['Churn']\n",
    "\n",
    "X_train_full, X_test, y_train_full, y_test = train_test_split(X, y, stratify=y, test_size=0.1, random_state=42) #train\n",
    "X_train, X_valid, y_train, y_valid = train_test_split(X_train_full, y_train_full, random_state=42) #train val"
   ]
  },
  {
   "cell_type": "markdown",
   "metadata": {},
   "source": [
    "## 4.2 Data Encoding"
   ]
  },
  {
   "cell_type": "code",
   "execution_count": 20,
   "metadata": {},
   "outputs": [],
   "source": [
    "preprocessor = ColumnTransformer([\n",
    "                  ('cat_1', cat_pipe(encoder='onehot'), ['MultipleLines','InternetService','OnlineSecurity', 'OnlineBackup', 'DeviceProtection', 'TechSupport','StreamingTV','StreamingMovies','Contract','PaymentMethod']),\n",
    "                  ('cat_2', cat_pipe(encoder='ordinal'), ['gender','Partner','Dependents', 'PhoneService', 'PaperlessBilling']),\n",
    "                  ('num', num_pipe(scaling = 'minmax'), ['SeniorCitizen', 'tenure','MonthlyCharges','TotalCharges'])\n",
    "])\n",
    "\n",
    "def label_x():\n",
    "    preprocessor.fit(X_train)\n",
    "    return preprocessor.transform(X_train), preprocessor.transform(X_test), preprocessor.transform(X_valid)\n",
    "\n",
    "def label_y():\n",
    "    label = preprocessing.LabelEncoder()\n",
    "    label.fit(y_train)\n",
    "    return label.transform(y_train), label.transform(y_test), label.transform(y_valid)\n",
    "\n",
    "X_train_new, X_test_new, X_valid_new = label_x()\n",
    "y_train_new, y_test_new, y_valid_new = label_y()"
   ]
  },
  {
   "cell_type": "markdown",
   "metadata": {},
   "source": [
    "# 5. Data Modelling"
   ]
  },
  {
   "cell_type": "markdown",
   "metadata": {},
   "source": [
    "## 5.1 Extract & Transform Process"
   ]
  },
  {
   "cell_type": "code",
   "execution_count": 21,
   "metadata": {},
   "outputs": [],
   "source": [
    "def ET(train, test):\n",
    "    return tf.data.Dataset.from_tensor_slices((train, test)).shuffle(buffer_size=16).batch(8)"
   ]
  },
  {
   "cell_type": "code",
   "execution_count": 22,
   "metadata": {},
   "outputs": [],
   "source": [
    "train_dataset = ET(X_train_new, y_train_new)\n",
    "test_dataset  = ET(X_test_new, y_test_new)\n",
    "valid_dataset = ET(X_valid_new, y_valid_new)"
   ]
  },
  {
   "cell_type": "markdown",
   "metadata": {},
   "source": [
    "## 5.2 Load Process & Data Architecture"
   ]
  },
  {
   "cell_type": "code",
   "execution_count": 23,
   "metadata": {},
   "outputs": [],
   "source": [
    "def model():    \n",
    "    data_input  = tf.keras.Input(shape= 40)\n",
    "    hidden      = tf.keras.layers.Dense(8, activation = 'relu', name= 'hidden_1')(data_input)\n",
    "    # hidden    = tf.keras.layers.Dense(8, activation = 'relu', name= 'hidden_2')(hidden)\n",
    "    output_lay  = tf.keras.layers.Dense(1, activation = 'sigmoid', name= 'predict')(hidden)\n",
    "\n",
    "    model = Model(inputs = data_input, outputs = output_lay)\n",
    "    \n",
    "    model.compile(loss = 'binary_crossentropy', #untuk binary classification\n",
    "              optimizer='adam',\n",
    "              metrics=['accuracy'])\n",
    "    \n",
    "    return model\n",
    "\n",
    "def running():\n",
    "    # run the model\n",
    "    run     = model()\n",
    "    history = run.fit(train_dataset, epochs = 30, batch_size= 8, validation_data=(valid_dataset))\n",
    "    return run, history\n",
    "\n",
    "def grafik(data):\n",
    "    # show the graph\n",
    "    metrics = pd.DataFrame(data.history)\n",
    "    return metrics[['loss', 'val_loss']].plot(), metrics[['accuracy', 'val_accuracy']].plot();"
   ]
  },
  {
   "cell_type": "markdown",
   "metadata": {},
   "source": [
    "# 5.2 Compiling and Fitting Model"
   ]
  },
  {
   "cell_type": "code",
   "execution_count": 52,
   "metadata": {},
   "outputs": [
    {
     "name": "stdout",
     "output_type": "stream",
     "text": [
      "Epoch 1/30\n",
      "595/595 [==============================] - 2s 3ms/step - loss: 0.5367 - accuracy: 0.7309 - val_loss: 0.4420 - val_accuracy: 0.7905\n",
      "Epoch 2/30\n",
      "595/595 [==============================] - 2s 3ms/step - loss: 0.4402 - accuracy: 0.7911 - val_loss: 0.4244 - val_accuracy: 0.8013\n",
      "Epoch 3/30\n",
      "595/595 [==============================] - 1s 2ms/step - loss: 0.4321 - accuracy: 0.7928 - val_loss: 0.4186 - val_accuracy: 0.7975\n",
      "Epoch 4/30\n",
      "595/595 [==============================] - 1s 2ms/step - loss: 0.4288 - accuracy: 0.7944 - val_loss: 0.4160 - val_accuracy: 0.8000\n",
      "Epoch 5/30\n",
      "595/595 [==============================] - 1s 2ms/step - loss: 0.4272 - accuracy: 0.7942 - val_loss: 0.4141 - val_accuracy: 0.8038\n",
      "Epoch 6/30\n",
      "595/595 [==============================] - 1s 2ms/step - loss: 0.4258 - accuracy: 0.7972 - val_loss: 0.4130 - val_accuracy: 0.8044\n",
      "Epoch 7/30\n",
      "595/595 [==============================] - 1s 2ms/step - loss: 0.4249 - accuracy: 0.7972 - val_loss: 0.4122 - val_accuracy: 0.8082\n",
      "Epoch 8/30\n",
      "595/595 [==============================] - 1s 2ms/step - loss: 0.4241 - accuracy: 0.7984 - val_loss: 0.4111 - val_accuracy: 0.8088\n",
      "Epoch 9/30\n",
      "595/595 [==============================] - 1s 2ms/step - loss: 0.4231 - accuracy: 0.7991 - val_loss: 0.4105 - val_accuracy: 0.8082\n",
      "Epoch 10/30\n",
      "595/595 [==============================] - 1s 2ms/step - loss: 0.4225 - accuracy: 0.8005 - val_loss: 0.4102 - val_accuracy: 0.8082\n",
      "Epoch 11/30\n",
      "595/595 [==============================] - 1s 2ms/step - loss: 0.4216 - accuracy: 0.8020 - val_loss: 0.4095 - val_accuracy: 0.8076\n",
      "Epoch 12/30\n",
      "595/595 [==============================] - 1s 2ms/step - loss: 0.4209 - accuracy: 0.8012 - val_loss: 0.4093 - val_accuracy: 0.8101\n",
      "Epoch 13/30\n",
      "595/595 [==============================] - 1s 2ms/step - loss: 0.4201 - accuracy: 0.8014 - val_loss: 0.4088 - val_accuracy: 0.8114\n",
      "Epoch 14/30\n",
      "595/595 [==============================] - 1s 2ms/step - loss: 0.4191 - accuracy: 0.8022 - val_loss: 0.4082 - val_accuracy: 0.8114\n",
      "Epoch 15/30\n",
      "595/595 [==============================] - 1s 2ms/step - loss: 0.4182 - accuracy: 0.8029 - val_loss: 0.4081 - val_accuracy: 0.8126\n",
      "Epoch 16/30\n",
      "595/595 [==============================] - 1s 2ms/step - loss: 0.4174 - accuracy: 0.8035 - val_loss: 0.4078 - val_accuracy: 0.8126\n",
      "Epoch 17/30\n",
      "595/595 [==============================] - 1s 2ms/step - loss: 0.4166 - accuracy: 0.8024 - val_loss: 0.4077 - val_accuracy: 0.8120\n",
      "Epoch 18/30\n",
      "595/595 [==============================] - 1s 2ms/step - loss: 0.4157 - accuracy: 0.8033 - val_loss: 0.4076 - val_accuracy: 0.8101\n",
      "Epoch 19/30\n",
      "595/595 [==============================] - 1s 2ms/step - loss: 0.4152 - accuracy: 0.8031 - val_loss: 0.4075 - val_accuracy: 0.8101\n",
      "Epoch 20/30\n",
      "595/595 [==============================] - 1s 2ms/step - loss: 0.4145 - accuracy: 0.8016 - val_loss: 0.4076 - val_accuracy: 0.8101\n",
      "Epoch 21/30\n",
      "595/595 [==============================] - 1s 2ms/step - loss: 0.4135 - accuracy: 0.8037 - val_loss: 0.4079 - val_accuracy: 0.8114\n",
      "Epoch 22/30\n",
      "595/595 [==============================] - 1s 2ms/step - loss: 0.4129 - accuracy: 0.8041 - val_loss: 0.4079 - val_accuracy: 0.8088\n",
      "Epoch 23/30\n",
      "595/595 [==============================] - 1s 2ms/step - loss: 0.4121 - accuracy: 0.8041 - val_loss: 0.4082 - val_accuracy: 0.8082\n",
      "Epoch 24/30\n",
      "595/595 [==============================] - 1s 2ms/step - loss: 0.4115 - accuracy: 0.8060 - val_loss: 0.4083 - val_accuracy: 0.8069\n",
      "Epoch 25/30\n",
      "595/595 [==============================] - 1s 2ms/step - loss: 0.4108 - accuracy: 0.8056 - val_loss: 0.4082 - val_accuracy: 0.8044\n",
      "Epoch 26/30\n",
      "595/595 [==============================] - 1s 2ms/step - loss: 0.4104 - accuracy: 0.8083 - val_loss: 0.4082 - val_accuracy: 0.8095\n",
      "Epoch 27/30\n",
      "595/595 [==============================] - 1s 2ms/step - loss: 0.4099 - accuracy: 0.8073 - val_loss: 0.4086 - val_accuracy: 0.8088\n",
      "Epoch 28/30\n",
      "595/595 [==============================] - 2s 3ms/step - loss: 0.4094 - accuracy: 0.8077 - val_loss: 0.4086 - val_accuracy: 0.8076\n",
      "Epoch 29/30\n",
      "595/595 [==============================] - 1s 2ms/step - loss: 0.4089 - accuracy: 0.8060 - val_loss: 0.4086 - val_accuracy: 0.8088\n",
      "Epoch 30/30\n",
      "595/595 [==============================] - 1s 2ms/step - loss: 0.4087 - accuracy: 0.8069 - val_loss: 0.4087 - val_accuracy: 0.8076\n"
     ]
    }
   ],
   "source": [
    "run, history = running()"
   ]
  },
  {
   "cell_type": "code",
   "execution_count": 53,
   "metadata": {},
   "outputs": [
    {
     "data": {
      "text/plain": [
       "(<AxesSubplot:>, <AxesSubplot:>)"
      ]
     },
     "execution_count": 53,
     "metadata": {},
     "output_type": "execute_result"
    },
    {
     "data": {
      "image/png": "[encoded data removed]",
      "text/plain": [
       "<Figure size 432x288 with 1 Axes>"
      ]
     },
     "metadata": {
      "needs_background": "light"
     },
     "output_type": "display_data"
    },
    {
     "data": {
      "image/png": "[encoded data removed]",
      "text/plain": [
       "<Figure size 432x288 with 1 Axes>"
      ]
     },
     "metadata": {
      "needs_background": "light"
     },
     "output_type": "display_data"
    }
   ],
   "source": [
    "grafik(history)"
   ]
  },
  {
   "cell_type": "markdown",
   "metadata": {},
   "source": [
    "## 5.3 Prediction"
   ]
  },
  {
   "cell_type": "code",
   "execution_count": 54,
   "metadata": {},
   "outputs": [
    {
     "data": {
      "text/html": [
       "<div>\n",
       "<style scoped>\n",
       "    .dataframe tbody tr th:only-of-type {\n",
       "        vertical-align: middle;\n",
       "    }\n",
       "\n",
       "    .dataframe tbody tr th {\n",
       "        vertical-align: top;\n",
       "    }\n",
       "\n",
       "    .dataframe thead th {\n",
       "        text-align: right;\n",
       "    }\n",
       "</style>\n",
       "<table border=\"1\" class=\"dataframe\">\n",
       "  <thead>\n",
       "    <tr style=\"text-align: right;\">\n",
       "      <th></th>\n",
       "      <th>0</th>\n",
       "      <th>1</th>\n",
       "      <th>2</th>\n",
       "      <th>3</th>\n",
       "      <th>4</th>\n",
       "      <th>5</th>\n",
       "      <th>6</th>\n",
       "      <th>7</th>\n",
       "      <th>8</th>\n",
       "      <th>9</th>\n",
       "      <th>...</th>\n",
       "      <th>695</th>\n",
       "      <th>696</th>\n",
       "      <th>697</th>\n",
       "      <th>698</th>\n",
       "      <th>699</th>\n",
       "      <th>700</th>\n",
       "      <th>701</th>\n",
       "      <th>702</th>\n",
       "      <th>703</th>\n",
       "      <th>704</th>\n",
       "    </tr>\n",
       "  </thead>\n",
       "  <tbody>\n",
       "    <tr>\n",
       "      <th>0</th>\n",
       "      <td>yes</td>\n",
       "      <td>yes</td>\n",
       "      <td>yes</td>\n",
       "      <td>yes</td>\n",
       "      <td>yes</td>\n",
       "      <td>yes</td>\n",
       "      <td>yes</td>\n",
       "      <td>yes</td>\n",
       "      <td>yes</td>\n",
       "      <td>yes</td>\n",
       "      <td>...</td>\n",
       "      <td>yes</td>\n",
       "      <td>yes</td>\n",
       "      <td>no</td>\n",
       "      <td>yes</td>\n",
       "      <td>yes</td>\n",
       "      <td>no</td>\n",
       "      <td>yes</td>\n",
       "      <td>no</td>\n",
       "      <td>yes</td>\n",
       "      <td>yes</td>\n",
       "    </tr>\n",
       "  </tbody>\n",
       "</table>\n",
       "<p>1 rows × 705 columns</p>\n",
       "</div>"
      ],
      "text/plain": [
       "   0    1    2    3    4    5    6    7    8    9    ...  695  696 697  698  \\\n",
       "0  yes  yes  yes  yes  yes  yes  yes  yes  yes  yes  ...  yes  yes  no  yes   \n",
       "\n",
       "   699 700  701 702  703  704  \n",
       "0  yes  no  yes  no  yes  yes  \n",
       "\n",
       "[1 rows x 705 columns]"
      ]
     },
     "execution_count": 54,
     "metadata": {},
     "output_type": "execute_result"
    }
   ],
   "source": [
    "res = run.predict(X_test_new)\n",
    "res_1 = (res > 0.5)\n",
    "res_1_1 =  np.where(res >= 0.5, 'no', 'yes')\n",
    "pd.DataFrame(res_1_1).transpose()\n"
   ]
  },
  {
   "cell_type": "code",
   "execution_count": 59,
   "metadata": {},
   "outputs": [
    {
     "name": "stdout",
     "output_type": "stream",
     "text": [
      "Classification Report\n",
      "              precision    recall  f1-score   support\n",
      "\n",
      "           0       0.84      0.90      0.87       518\n",
      "           1       0.65      0.54      0.59       187\n",
      "\n",
      "    accuracy                           0.80       705\n",
      "   macro avg       0.75      0.72      0.73       705\n",
      "weighted avg       0.79      0.80      0.80       705\n",
      " \n",
      " \n",
      "\n",
      "Confusion Matrix\n"
     ]
    },
    {
     "data": {
      "text/plain": [
       "array([[464,  54],\n",
       "       [ 86, 101]], dtype=int64)"
      ]
     },
     "execution_count": 59,
     "metadata": {},
     "output_type": "execute_result"
    }
   ],
   "source": [
    "cm  = confusion_matrix(y_test_new, res_1)\n",
    "cr = classification_report(y_test_new, res_1)\n",
    "print('Classification Report')\n",
    "print(cr,'\\n \\n')\n",
    "print('Confusion Matrix')\n",
    "cm"
   ]
  },
  {
   "cell_type": "markdown",
   "metadata": {},
   "source": [
    "# 6. Parameter Tuning"
   ]
  },
  {
   "cell_type": "markdown",
   "metadata": {},
   "source": [
    "## 6.1 Using Grid Search"
   ]
  },
  {
   "cell_type": "code",
   "execution_count": 28,
   "metadata": {},
   "outputs": [],
   "source": [
    "# good_model = KerasClassifier(build_fn=model, verbose=0)\n",
    "\n",
    "# # define the grid search parameters\n",
    "# batch_size = [10, 40, 80, 100]\n",
    "# epochs = [10, 50, 100]\n",
    "\n",
    "# param_grid = dict(batch_size  = batch_size, epochs=epochs)\n",
    "# grid = GridSearchCV(estimator = good_model, param_grid=param_grid, n_jobs=-1, cv=3)\n",
    "# grid_result = grid.fit(X_train_new, y_train_new)\n",
    "\n",
    "# # summarize results\n",
    "# print(\"Best: %f using %s\" % (grid_result.best_score_, grid_result.best_params_))"
   ]
  },
  {
   "cell_type": "code",
   "execution_count": 29,
   "metadata": {},
   "outputs": [],
   "source": [
    "# good_model = KerasClassifier(build_fn=model_coba, epochs=40, batch_size=10, verbose=0)\n",
    "# # define the grid search parameters\n",
    "# optimizer = ['SGD', 'Adam', 'Nadam']\n",
    "\n",
    "# learn_rate = [0.001, 0.01, 0.1, 0.2, 0.3]\n",
    "# momentum = [0.0, 0.2, 0.4, 0.6, 0.8, 0.9]\n",
    "\n",
    "# init_mode = ['uniform', 'lecun_uniform', 'normal', 'zero', 'glorot_normal', 'glorot_uniform', 'he_normal', 'he_uniform']\n",
    "\n",
    "# weight_constraint = [1, 2, 3, 4, 5]\n",
    "# dropout_rate = [0.0, 0.1, 0.2, 0.3, 0.4, 0.5, 0.6, 0.7, 0.8, 0.9]\n",
    "\n",
    "# neurons = [1,2]\n",
    "\n",
    "# param_grid = dict(\n",
    "#     # Training Optimizer\n",
    "#     optimizer=optimizer,\n",
    "    \n",
    "#     # Learning Rate and Momentum\n",
    "#     learn_rate=learn_rate, momentum=momentum,\n",
    "    \n",
    "#     # Network Weight Initialization\n",
    "#     init_mode=init_mode,\n",
    "    \n",
    "#     # Dropout Regularization\n",
    "#     dropout_rate=dropout_rate, weight_constraint=weight_constraint,\n",
    "    \n",
    "#     # Number of Neurons in the Hidden Layer\n",
    "#     neurons=neurons\n",
    "#     )\n",
    "# grid = GridSearchCV(estimator=good_model, param_grid=param_grid, n_jobs=-1, cv=3)\n",
    "# grid_result = grid.fit(X_train, y_train)\n",
    "\n",
    "# # summarize results\n",
    "# print(\"Best: %f using %s\" % (grid_result.best_score_, grid_result.best_params_))"
   ]
  },
  {
   "cell_type": "markdown",
   "metadata": {},
   "source": [
    "### `saya tidak merekomendasikan menggunakan grid search jika anda sedang terburu - buru karena terlalu banyak menghabiskan resources`"
   ]
  },
  {
   "cell_type": "markdown",
   "metadata": {},
   "source": [
    "## 6.2 Trial and Error"
   ]
  },
  {
   "cell_type": "code",
   "execution_count": 29,
   "metadata": {},
   "outputs": [],
   "source": [
    "def model_baru(activation_hidden, optim, learn_ra, DO, epo, basi):\n",
    "    model = Sequential()\n",
    "    model.add(Dense(64, activation = activation_hidden, name= 'hidden_1', input_shape=(40,)))\n",
    "    model.add(Dropout(DO))\n",
    "    # model.add(keras.layers.BatchNormalization()),\n",
    "    \n",
    "    model.add(Dense(16, activation = activation_hidden, name= 'hidden_2'))\n",
    "    model.add(Dropout(DO))\n",
    "    # model.add(keras.layers.BatchNormalization()),\n",
    "    \n",
    "    model.add(Dense(8, activation = activation_hidden, name= 'hidden_3'))\n",
    "    model.add(Dropout(DO))\n",
    "    model.add(keras.layers.BatchNormalization())\n",
    "    \n",
    "    model.add(Dense(1, activation = 'sigmoid', name= 'predict'))\n",
    "    \n",
    "    opt = optim(lr=learn_ra)\n",
    "    model.compile(loss = 'binary_crossentropy', #untuk binary classification\n",
    "            optimizer= opt,\n",
    "            metrics=['accuracy'])\n",
    "    \n",
    "    run = model\n",
    "    history = model.fit(train_dataset, epochs = epo, batch_size= basi, validation_data=(valid_dataset))\n",
    "    return run, history\n",
    "\n",
    "\n",
    "def grafik(data):\n",
    "    # show the graph\n",
    "    metrics = pd.DataFrame(data.history)\n",
    "    return metrics[['loss', 'val_loss']].plot(), metrics[['accuracy', 'val_accuracy']].plot();"
   ]
  },
  {
   "cell_type": "markdown",
   "metadata": {},
   "source": [
    "Contoh :\n",
    "\n",
    "- activation          = ['softmax', 'softplus', 'softsign', 'relu', 'tanh', 'sigmoid', 'hard_sigmoid', 'linear']\n",
    "- init_mode           = ['uniform', 'lecun_uniform', 'normal', 'zero', 'glorot_normal', 'glorot_uniform', 'he_normal', 'he_uniform']\n",
    "- weight_constraint   = [1, 2, 3, 4, 5]\n",
    "- dropout_rate        = [0.0, 0.1, 0.2, 0.3, 0.4, 0.5, 0.6, 0.7, 0.8, 0.9]\n",
    "- optimizer           = ['SGD', 'RMSprop', 'Adagrad', 'Adadelta', 'Adam', 'Adamax', 'Nadam']\n",
    "- learn_rate          = [0.001, 0.01, 0.1, 0.2, 0.3]\n",
    "- momentum            = [0.0, 0.2, 0.4, 0.6, 0.8, 0.9]"
   ]
  },
  {
   "cell_type": "code",
   "execution_count": 39,
   "metadata": {},
   "outputs": [
    {
     "name": "stdout",
     "output_type": "stream",
     "text": [
      "Epoch 1/16\n",
      "595/595 [==============================] - 4s 4ms/step - loss: 0.8160 - accuracy: 0.5176 - val_loss: 0.6184 - val_accuracy: 0.6618\n",
      "Epoch 2/16\n",
      "595/595 [==============================] - 3s 5ms/step - loss: 0.7108 - accuracy: 0.5862 - val_loss: 0.5783 - val_accuracy: 0.7186\n",
      "Epoch 3/16\n",
      "595/595 [==============================] - 2s 4ms/step - loss: 0.6609 - accuracy: 0.6259 - val_loss: 0.5479 - val_accuracy: 0.7451\n",
      "Epoch 4/16\n",
      "595/595 [==============================] - 2s 3ms/step - loss: 0.6225 - accuracy: 0.6629 - val_loss: 0.5282 - val_accuracy: 0.7401\n",
      "Epoch 5/16\n",
      "595/595 [==============================] - 3s 5ms/step - loss: 0.5972 - accuracy: 0.6758 - val_loss: 0.5158 - val_accuracy: 0.7495\n",
      "Epoch 6/16\n",
      "595/595 [==============================] - 2s 4ms/step - loss: 0.5641 - accuracy: 0.7044 - val_loss: 0.5023 - val_accuracy: 0.7350\n",
      "Epoch 7/16\n",
      "595/595 [==============================] - 2s 4ms/step - loss: 0.5544 - accuracy: 0.7155 - val_loss: 0.4871 - val_accuracy: 0.7476\n",
      "Epoch 8/16\n",
      "595/595 [==============================] - 3s 4ms/step - loss: 0.5499 - accuracy: 0.7111 - val_loss: 0.4791 - val_accuracy: 0.7388\n",
      "Epoch 9/16\n",
      "595/595 [==============================] - 3s 4ms/step - loss: 0.5330 - accuracy: 0.7290 - val_loss: 0.4732 - val_accuracy: 0.7533\n",
      "Epoch 10/16\n",
      "595/595 [==============================] - 2s 3ms/step - loss: 0.5339 - accuracy: 0.7326 - val_loss: 0.4709 - val_accuracy: 0.7546\n",
      "Epoch 11/16\n",
      "595/595 [==============================] - 2s 3ms/step - loss: 0.5333 - accuracy: 0.7267 - val_loss: 0.4674 - val_accuracy: 0.7483\n",
      "Epoch 12/16\n",
      "595/595 [==============================] - 2s 3ms/step - loss: 0.5236 - accuracy: 0.7360 - val_loss: 0.4660 - val_accuracy: 0.7445\n",
      "Epoch 13/16\n",
      "595/595 [==============================] - 2s 4ms/step - loss: 0.5223 - accuracy: 0.7366 - val_loss: 0.4653 - val_accuracy: 0.7413\n",
      "Epoch 14/16\n",
      "595/595 [==============================] - 2s 3ms/step - loss: 0.5101 - accuracy: 0.7530 - val_loss: 0.4652 - val_accuracy: 0.7369\n",
      "Epoch 15/16\n",
      "595/595 [==============================] - 2s 3ms/step - loss: 0.5092 - accuracy: 0.7458 - val_loss: 0.4616 - val_accuracy: 0.7539\n",
      "Epoch 16/16\n",
      "595/595 [==============================] - 2s 3ms/step - loss: 0.5155 - accuracy: 0.7360 - val_loss: 0.4655 - val_accuracy: 0.7369\n"
     ]
    }
   ],
   "source": [
    "run2, history2 = model_baru(activation_hidden = 'relu',\n",
    "                          optim             = Adam,\n",
    "                          learn_ra          = 0.0001,\n",
    "                          DO                = 0.3, \n",
    "                          epo               = 16, \n",
    "                          basi              = 8)"
   ]
  },
  {
   "cell_type": "code",
   "execution_count": 40,
   "metadata": {},
   "outputs": [
    {
     "data": {
      "text/plain": [
       "(<AxesSubplot:>, <AxesSubplot:>)"
      ]
     },
     "execution_count": 40,
     "metadata": {},
     "output_type": "execute_result"
    },
    {
     "data": {
      "image/png": "[encoded data removed]",
      "text/plain": [
       "<Figure size 432x288 with 1 Axes>"
      ]
     },
     "metadata": {
      "needs_background": "light"
     },
     "output_type": "display_data"
    },
    {
     "data": {
      "image/png": "[encoded data removed]",
      "text/plain": [
       "<Figure size 432x288 with 1 Axes>"
      ]
     },
     "metadata": {
      "needs_background": "light"
     },
     "output_type": "display_data"
    }
   ],
   "source": [
    "grafik(history2)"
   ]
  },
  {
   "cell_type": "code",
   "execution_count": 42,
   "metadata": {},
   "outputs": [
    {
     "data": {
      "text/html": [
       "<div>\n",
       "<style scoped>\n",
       "    .dataframe tbody tr th:only-of-type {\n",
       "        vertical-align: middle;\n",
       "    }\n",
       "\n",
       "    .dataframe tbody tr th {\n",
       "        vertical-align: top;\n",
       "    }\n",
       "\n",
       "    .dataframe thead th {\n",
       "        text-align: right;\n",
       "    }\n",
       "</style>\n",
       "<table border=\"1\" class=\"dataframe\">\n",
       "  <thead>\n",
       "    <tr style=\"text-align: right;\">\n",
       "      <th></th>\n",
       "      <th>0</th>\n",
       "      <th>1</th>\n",
       "      <th>2</th>\n",
       "      <th>3</th>\n",
       "      <th>4</th>\n",
       "      <th>5</th>\n",
       "      <th>6</th>\n",
       "      <th>7</th>\n",
       "      <th>8</th>\n",
       "      <th>9</th>\n",
       "      <th>...</th>\n",
       "      <th>695</th>\n",
       "      <th>696</th>\n",
       "      <th>697</th>\n",
       "      <th>698</th>\n",
       "      <th>699</th>\n",
       "      <th>700</th>\n",
       "      <th>701</th>\n",
       "      <th>702</th>\n",
       "      <th>703</th>\n",
       "      <th>704</th>\n",
       "    </tr>\n",
       "  </thead>\n",
       "  <tbody>\n",
       "    <tr>\n",
       "      <th>0</th>\n",
       "      <td>yes</td>\n",
       "      <td>yes</td>\n",
       "      <td>yes</td>\n",
       "      <td>yes</td>\n",
       "      <td>yes</td>\n",
       "      <td>yes</td>\n",
       "      <td>yes</td>\n",
       "      <td>yes</td>\n",
       "      <td>yes</td>\n",
       "      <td>yes</td>\n",
       "      <td>...</td>\n",
       "      <td>yes</td>\n",
       "      <td>yes</td>\n",
       "      <td>yes</td>\n",
       "      <td>yes</td>\n",
       "      <td>yes</td>\n",
       "      <td>yes</td>\n",
       "      <td>yes</td>\n",
       "      <td>yes</td>\n",
       "      <td>yes</td>\n",
       "      <td>yes</td>\n",
       "    </tr>\n",
       "  </tbody>\n",
       "</table>\n",
       "<p>1 rows × 705 columns</p>\n",
       "</div>"
      ],
      "text/plain": [
       "   0    1    2    3    4    5    6    7    8    9    ...  695  696  697  698  \\\n",
       "0  yes  yes  yes  yes  yes  yes  yes  yes  yes  yes  ...  yes  yes  yes  yes   \n",
       "\n",
       "   699  700  701  702  703  704  \n",
       "0  yes  yes  yes  yes  yes  yes  \n",
       "\n",
       "[1 rows x 705 columns]"
      ]
     },
     "execution_count": 42,
     "metadata": {},
     "output_type": "execute_result"
    }
   ],
   "source": [
    "res2 = run2.predict(X_test_new)\n",
    "res_2 = (res2 > 0.5)\n",
    "res_2_2 =  np.where(res2 >= 0.5, 'no', 'yes')\n",
    "pd.DataFrame(res_2_2).transpose()"
   ]
  },
  {
   "cell_type": "code",
   "execution_count": 43,
   "metadata": {},
   "outputs": [
    {
     "name": "stdout",
     "output_type": "stream",
     "text": [
      "Classification Report After Tuning\n",
      "               precision    recall  f1-score   support\n",
      "\n",
      "           0       0.75      0.99      0.85       518\n",
      "           1       0.78      0.07      0.14       187\n",
      "\n",
      "    accuracy                           0.75       705\n",
      "   macro avg       0.76      0.53      0.49       705\n",
      "weighted avg       0.76      0.75      0.66       705\n",
      " \n",
      " \n",
      "\n",
      "Confusion Matrix After Tuning\n",
      " [[514   4]\n",
      " [173  14]]\n"
     ]
    }
   ],
   "source": [
    "cm2  = confusion_matrix(y_test_new, res_2)\n",
    "cr2 = classification_report(y_test_new, res_2)\n",
    "# print('Classification Report Before Tuning\\n', cr,'\\n \\n')\n",
    "print('Classification Report After Tuning\\n', cr2,'\\n \\n')\n",
    "\n",
    "# print('Confusion Matrix Before Tuning\\n', cm)\n",
    "print('Confusion Matrix After Tuning\\n', cm2)\n"
   ]
  },
  {
   "cell_type": "markdown",
   "metadata": {},
   "source": [
    "`tidak ada perbedaan sebelum dan sesudah di tuning`"
   ]
  },
  {
   "cell_type": "markdown",
   "metadata": {},
   "source": [
    "## 6.3 MLPClassifier"
   ]
  },
  {
   "cell_type": "code",
   "execution_count": 111,
   "metadata": {},
   "outputs": [
    {
     "name": "stdout",
     "output_type": "stream",
     "text": [
      "Fitting 3 folds for each of 108 candidates, totalling 324 fits\n",
      "{'mlp__activation': 'logistic', 'mlp__alpha': 0.0001, 'mlp__hidden_layer_sizes': (32, 16, 8), 'mlp__learning_rate_init': 0.001}\n",
      "0.8112770881548496 0.8037034381671605 0.8014184397163121\n"
     ]
    }
   ],
   "source": [
    "pipeline = Pipeline([\n",
    "    ('prep', preprocessor),\n",
    "    ('mlp', MLPClassifier(random_state=42))\n",
    "])\n",
    "\n",
    "parameter = {\n",
    "    \"mlp__alpha\": [0.0001, 0.0003, 0.001, 0.003],\n",
    "    \"mlp__hidden_layer_sizes\": [(16,), (32, 16), (32, 16, 8)],\n",
    "    \"mlp__learning_rate_init\": [0.001, 0.005, 0.01],\n",
    "    \"mlp__learning_rate_init\": [0.001, 0.01, 0.1, 0.2],\n",
    "    \"mlp__activation\": [\"relu\", \"logistic\", \"tanh\"]\n",
    "}\n",
    "\n",
    "model = GridSearchCV(pipeline, parameter, cv=3, n_jobs=-1, verbose=1)\n",
    "model.fit(X_train, y_train)\n",
    "\n",
    "print(model.best_params_)\n",
    "print(model.score(X_train, y_train), model.best_score_, model.score(X_test, y_test))"
   ]
  },
  {
   "cell_type": "code",
   "execution_count": 112,
   "metadata": {},
   "outputs": [],
   "source": [
    "# df_imp = mean_score_decrease(X_train, y_train, model, plot=True)"
   ]
  },
  {
   "cell_type": "markdown",
   "metadata": {},
   "source": [
    "# 7 Model Inference"
   ]
  },
  {
   "cell_type": "markdown",
   "metadata": {},
   "source": [
    "## 7.1 Basic Model"
   ]
  },
  {
   "cell_type": "markdown",
   "metadata": {},
   "source": [
    "untuk memperoleh data baru, disini saya menyatukan 100 data dari setiap data X kemudian membuat fungsi random untuk mendapatkan 10 data baru."
   ]
  },
  {
   "cell_type": "code",
   "execution_count": 131,
   "metadata": {},
   "outputs": [],
   "source": [
    "trainx = pd.DataFrame(X_train_new)\n",
    "testx = pd.DataFrame(X_test_new)\n",
    "valx = pd.DataFrame(X_valid_new)\n",
    "\n",
    "testing = pd.concat([trainx.sample(100), testx.sample(100), valx.sample(100)], ignore_index = True)\n",
    "dummy = testing.sample(10)"
   ]
  },
  {
   "cell_type": "markdown",
   "metadata": {},
   "source": [
    "melakukan proses prediksi menggunakan data baru"
   ]
  },
  {
   "cell_type": "code",
   "execution_count": 132,
   "metadata": {},
   "outputs": [
    {
     "data": {
      "text/html": [
       "<div>\n",
       "<style scoped>\n",
       "    .dataframe tbody tr th:only-of-type {\n",
       "        vertical-align: middle;\n",
       "    }\n",
       "\n",
       "    .dataframe tbody tr th {\n",
       "        vertical-align: top;\n",
       "    }\n",
       "\n",
       "    .dataframe thead th {\n",
       "        text-align: right;\n",
       "    }\n",
       "</style>\n",
       "<table border=\"1\" class=\"dataframe\">\n",
       "  <thead>\n",
       "    <tr style=\"text-align: right;\">\n",
       "      <th></th>\n",
       "      <th>0</th>\n",
       "      <th>1</th>\n",
       "      <th>2</th>\n",
       "      <th>3</th>\n",
       "      <th>4</th>\n",
       "      <th>5</th>\n",
       "      <th>6</th>\n",
       "      <th>7</th>\n",
       "      <th>8</th>\n",
       "      <th>9</th>\n",
       "    </tr>\n",
       "  </thead>\n",
       "  <tbody>\n",
       "    <tr>\n",
       "      <th>0</th>\n",
       "      <td>yes</td>\n",
       "      <td>yes</td>\n",
       "      <td>no</td>\n",
       "      <td>yes</td>\n",
       "      <td>yes</td>\n",
       "      <td>yes</td>\n",
       "      <td>yes</td>\n",
       "      <td>no</td>\n",
       "      <td>yes</td>\n",
       "      <td>yes</td>\n",
       "    </tr>\n",
       "  </tbody>\n",
       "</table>\n",
       "</div>"
      ],
      "text/plain": [
       "     0    1   2    3    4    5    6   7    8    9\n",
       "0  yes  yes  no  yes  yes  yes  yes  no  yes  yes"
      ]
     },
     "execution_count": 132,
     "metadata": {},
     "output_type": "execute_result"
    }
   ],
   "source": [
    "model_pred   = run.predict(dummy)\n",
    "# model_pred_data = (model_pred > 0.5)\n",
    "model_pred_1  = np.where(model_pred >= 0.5, 'yes', 'no')\n",
    "pd.DataFrame(model_pred_1).transpose()"
   ]
  },
  {
   "cell_type": "markdown",
   "metadata": {},
   "source": [
    "## 7.2 MLPClassifier Model"
   ]
  },
  {
   "cell_type": "code",
   "execution_count": 133,
   "metadata": {},
   "outputs": [],
   "source": [
    "trainx = pd.DataFrame(X_train)\n",
    "testx = pd.DataFrame(X_test)\n",
    "valx = pd.DataFrame(X_valid)\n",
    "\n",
    "testing = pd.concat([trainx.sample(100), testx.sample(100), valx.sample(100)], ignore_index = True)\n",
    "dummy = testing.sample(10, random_state= 42)"
   ]
  },
  {
   "cell_type": "code",
   "execution_count": 134,
   "metadata": {},
   "outputs": [
    {
     "data": {
      "text/html": [
       "<div>\n",
       "<style scoped>\n",
       "    .dataframe tbody tr th:only-of-type {\n",
       "        vertical-align: middle;\n",
       "    }\n",
       "\n",
       "    .dataframe tbody tr th {\n",
       "        vertical-align: top;\n",
       "    }\n",
       "\n",
       "    .dataframe thead th {\n",
       "        text-align: right;\n",
       "    }\n",
       "</style>\n",
       "<table border=\"1\" class=\"dataframe\">\n",
       "  <thead>\n",
       "    <tr style=\"text-align: right;\">\n",
       "      <th></th>\n",
       "      <th>0</th>\n",
       "      <th>1</th>\n",
       "      <th>2</th>\n",
       "      <th>3</th>\n",
       "      <th>4</th>\n",
       "      <th>5</th>\n",
       "      <th>6</th>\n",
       "      <th>7</th>\n",
       "      <th>8</th>\n",
       "      <th>9</th>\n",
       "    </tr>\n",
       "  </thead>\n",
       "  <tbody>\n",
       "    <tr>\n",
       "      <th>0</th>\n",
       "      <td>Yes</td>\n",
       "      <td>No</td>\n",
       "      <td>No</td>\n",
       "      <td>Yes</td>\n",
       "      <td>No</td>\n",
       "      <td>No</td>\n",
       "      <td>No</td>\n",
       "      <td>No</td>\n",
       "      <td>No</td>\n",
       "      <td>No</td>\n",
       "    </tr>\n",
       "  </tbody>\n",
       "</table>\n",
       "</div>"
      ],
      "text/plain": [
       "     0   1   2    3   4   5   6   7   8   9\n",
       "0  Yes  No  No  Yes  No  No  No  No  No  No"
      ]
     },
     "execution_count": 134,
     "metadata": {},
     "output_type": "execute_result"
    }
   ],
   "source": [
    "model_pred2   = model.predict(dummy)\n",
    "pd.DataFrame(model_pred2).transpose()"
   ]
  },
  {
   "cell_type": "markdown",
   "metadata": {},
   "source": [
    "# 9. Conclusion"
   ]
  },
  {
   "cell_type": "markdown",
   "metadata": {},
   "source": [
    "## 9.1 EDA Analysis\n",
    "\n",
    "- `berdasarkan analisis lebih dari `<b> 50% customer </b> ` baik laki-laki maupun perempuan menyukai produk yang ditawarkan dan menjadi pelanggan tetap`\n",
    "- `Costumer churn rate akan terus berkurang seiring customer melakukan penpanjangan service yang artinya customer menyukai produk yang ditawarkan`\n",
    "- `diperlukan analisis lebih lanjut pada bulan pertama ketika customer berlangganan, dimana lebih dari 350 customer churn pada bulan pertama mereka berlangganan`"
   ]
  },
  {
   "cell_type": "markdown",
   "metadata": {},
   "source": [
    "## 9.2 Model Analysis\n",
    "\n",
    "- `Basic model`<b> (1 hidden layer dan 30 neuron serta epoch = 10 dan batch_size = 8) </b> ` memiliki model yang tidak overfit dan accuracy yang lumayan baik dimana nilai accuracy adalah 0.80`\n",
    "\n",
    "- `Parameter Tuning bisa dilakukan dengan 3 cara, Keras Library, Trial and Error, dan Scikit Learn`\n",
    "\n",
    "- `kombinasi parameter yang digunakan pada Trial and Error adalah sebagi berikut:`\n",
    "    - Batch                             = 8\n",
    "    - Epoch                             = 16\n",
    "    - Training Optimizer                = Adam\n",
    "    - Hidden Layer                      = 3\n",
    "    - Learning Rate                     = 0.0001\n",
    "    - Dropout Rate                      = 0.3\n",
    "    - Activation func (hidden layer)    = relu\n",
    "    - Activation func (output layer)    = sigmoid\n",
    "\n",
    "- `Dengan membandingkan 3 model yang telah digunakan (Basic Model, Trial and Error, dan Skicit Learn), didapatkan bahwa model Scikit Learn dan basic model adalah model terbaik, keduanya tidak memiliki perbedaan loss yang significant`\n",
    "\n",
    "- `Menggunakan Skicit Learn sebenarnya bisa dilakukan, namun memiliki banyak keterbatasan dalam Deep Learning, salah satunya adalah tidak bisa meng`<b><i>`handle`</i></b>` dataset dengan jumlah yang banyak (bigdata)`"
   ]
  },
  {
   "cell_type": "markdown",
   "metadata": {},
   "source": []
  }
 ],
 "metadata": {
  "interpreter": {
   "hash": "6d260c93fe108ed97f4a63214c8644960b32a7056e9114e087715075082f9a3d"
  },
  "kernelspec": {
   "display_name": "Python 3.9.9 64-bit",
   "language": "python",
   "name": "python3"
  },
  "language_info": {
   "codemirror_mode": {
    "name": "ipython",
    "version": 3
   },
   "file_extension": ".py",
   "mimetype": "text/x-python",
   "name": "python",
   "nbconvert_exporter": "python",
   "pygments_lexer": "ipython3",
   "version": "3.9.9"
  },
  "orig_nbformat": 4
 },
 "nbformat": 4,
 "nbformat_minor": 2
}
